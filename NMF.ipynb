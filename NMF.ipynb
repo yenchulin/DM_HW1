{
 "cells": [
  {
   "cell_type": "code",
   "execution_count": 1,
   "metadata": {},
   "outputs": [],
   "source": [
    "import os\n",
    "import sys\n",
    "import xml.etree.ElementTree as ET\n",
    "import matplotlib.pyplot as plt\n",
    "import matplotlib.image as mpimg\n",
    "from PIL import Image\n",
    "import numpy as np\n",
    "from sklearn.model_selection import train_test_split\n",
    "from sklearn.decomposition import NMF\n",
    "from sklearn.svm import SVC\n",
    "from sklearn.neural_network import MLPClassifier\n",
    "from sklearn.metrics import accuracy_score, auc, precision_score, recall_score, f1_score, roc_curve, roc_auc_score"
   ]
  },
  {
   "cell_type": "code",
   "execution_count": 2,
   "metadata": {},
   "outputs": [],
   "source": [
    "root = \"./stanford-dogs-dataset/images/Images/\"\n",
    "thumbroot = \"./thumbnails/\""
   ]
  },
  {
   "cell_type": "code",
   "execution_count": 3,
   "metadata": {},
   "outputs": [],
   "source": [
    "## Helper Functions\n",
    "\n",
    "def writeProgress(msg, count, total):\n",
    "    sys.stdout.write(msg + \"{:.2%}\\r\".format(count/total))\n",
    "    sys.stdout.flush()\n",
    "    \n",
    "def getAnnotations(ann_path):\n",
    "    tree = ET.parse(ann_path)\n",
    "    root = tree.getroot()\n",
    "    xmin = int(root.find(\"object/bndbox/xmin\").text)\n",
    "    ymin = int(root.find(\"object/bndbox/ymin\").text)\n",
    "    xmax = int(root.find(\"object/bndbox/xmax\").text)\n",
    "    ymax = int(root.find(\"object/bndbox/ymax\").text)\n",
    "    return (xmin, ymin, xmax, ymax)\n",
    "\n",
    "def getAnnpath(img_path):\n",
    "    ann_path = img_path.replace(\"images\", \"annotations\").replace(\"Images\", \"Annotation\")\n",
    "    ann_path = os.path.splitext(ann_path)[0]\n",
    "    return ann_path"
   ]
  },
  {
   "cell_type": "code",
   "execution_count": 4,
   "metadata": {},
   "outputs": [],
   "source": [
    "## Generate Label Dictionary (id, label)\n",
    "\n",
    "dictionary={}\n",
    "subdirs = os.listdir(root)\n",
    "for dir in subdirs:\n",
    "    key = dir.split(\"-\", 1)[0]\n",
    "    value = dir.split(\"-\", 1)[1]\n",
    "    dictionary[key] = value"
   ]
  },
  {
   "cell_type": "code",
   "execution_count": 5,
   "metadata": {},
   "outputs": [
    {
     "name": "stdout",
     "output_type": "stream",
     "text": [
      "Calculating data size ...\n",
      "Progress calculating: 100.00%\r"
     ]
    }
   ],
   "source": [
    "## Data Size\n",
    "print(\"Calculating data size ...\")\n",
    "\n",
    "count = 0\n",
    "heights = []\n",
    "widths = []\n",
    "for path, subdirs, files in os.walk(root):\n",
    "    for name in files:\n",
    "        img_path = os.path.join(path, name)\n",
    "        img = Image.open(img_path)\n",
    "        w, h = img.size\n",
    "        widths.append(w)\n",
    "        heights.append(h)\n",
    "        \n",
    "        count += 1\n",
    "        sys.stdout.write(\"Progress calculating: {:.2%}\\r\".format(count/20580))\n",
    "        sys.stdout.flush()\n",
    "\n",
    "min_height = min(heights)\n",
    "min_width = min(widths)\n",
    "total = count"
   ]
  },
  {
   "cell_type": "code",
   "execution_count": 6,
   "metadata": {},
   "outputs": [
    {
     "name": "stdout",
     "output_type": "stream",
     "text": [
      "Number of image:  20580\n",
      "Min image height:  100\n",
      "Min image width:  97\n"
     ]
    }
   ],
   "source": [
    "print(\"Number of image: \", total)\n",
    "print(\"Min image height: \", min_height)\n",
    "print(\"Min image width: \", min_width)"
   ]
  },
  {
   "cell_type": "code",
   "execution_count": 7,
   "metadata": {
    "scrolled": true
   },
   "outputs": [
    {
     "name": "stdout",
     "output_type": "stream",
     "text": [
      "Generating same-sized, grey-scaled images ...\n",
      "Progress generating images: 100.00%\r"
     ]
    }
   ],
   "source": [
    "## Generate cropped, same-sized, grey-scaled images in another file\n",
    "print(\"Generating same-sized, grey-scaled images ...\")\n",
    "\n",
    "# Check if old files exists\n",
    "files = os.listdir(thumbroot)\n",
    "if files:\n",
    "    for f in files:\n",
    "        os.unlink(os.path.join(thumbroot, f))\n",
    "    \n",
    "# Start generating \n",
    "count = 0\n",
    "for path, subdirs, files in os.walk(root):\n",
    "    for name in files:\n",
    "        img_path = os.path.join(path, name)\n",
    "        thumb_path = os.path.join(thumbroot, name)\n",
    "        ann_path = getAnnpath(img_path)\n",
    "        \n",
    "        img = Image.open(img_path)\n",
    "        cr_img = img.crop(getAnnotations(ann_path))\n",
    "        re_img = cr_img.resize((100, 100), Image.ANTIALIAS)\n",
    "        gr_img = re_img.convert(\"L\")\n",
    "        gr_img.save(thumb_path, quality=95)\n",
    "\n",
    "        count += 1\n",
    "        writeProgress(\"Progress generating images: \", count, total)"
   ]
  },
  {
   "cell_type": "code",
   "execution_count": 8,
   "metadata": {},
   "outputs": [
    {
     "name": "stdout",
     "output_type": "stream",
     "text": [
      "Reading images ...\n",
      "Progress loading images: 100.00%\r"
     ]
    }
   ],
   "source": [
    "## Read Image to ndarray\n",
    "print(\"Reading images ...\")\n",
    "\n",
    "images = []\n",
    "labels = []\n",
    "count = 0\n",
    "\n",
    "for name in os.listdir(thumbroot):\n",
    "    img_path = os.path.join(thumbroot, name)\n",
    "    img = mpimg.imread(img_path)\n",
    "    images.append(img)\n",
    "\n",
    "    key = name.split(\"_\", 1)[0]\n",
    "    label = dictionary[key]\n",
    "    labels.append(label)\n",
    "\n",
    "    count += 1\n",
    "    writeProgress(\"Progress loading images: \", count, total)\n",
    "\n",
    "X = np.array(images)\n",
    "Y = np.array(labels)"
   ]
  },
  {
   "cell_type": "code",
   "execution_count": 9,
   "metadata": {
    "scrolled": false
   },
   "outputs": [
    {
     "name": "stdout",
     "output_type": "stream",
     "text": [
      "X shape:  (20580, 100, 100)\n",
      "Y size:  20580\n"
     ]
    }
   ],
   "source": [
    "## Data Size (after resizing)\n",
    "print(\"X shape: \", X.shape)\n",
    "print(\"Y size: \", Y.size)"
   ]
  },
  {
   "cell_type": "code",
   "execution_count": 10,
   "metadata": {
    "scrolled": true
   },
   "outputs": [
    {
     "name": "stdout",
     "output_type": "stream",
     "text": [
      "(100, 100)\n"
     ]
    },
    {
     "data": {
      "image/png": "[encoded data removed]",
      "text/plain": [
       "<Figure size 432x288 with 1 Axes>"
      ]
     },
     "metadata": {
      "needs_background": "light"
     },
     "output_type": "display_data"
    }
   ],
   "source": [
    "plt.imshow(X[0])\n",
    "print(X[0].shape)"
   ]
  },
  {
   "cell_type": "code",
   "execution_count": 11,
   "metadata": {},
   "outputs": [],
   "source": [
    "## Flaten Image List (bcuz NMF only consumes 2D data)\n",
    "\n",
    "X_flat = np.array(X).reshape((X.shape[0], X.shape[1]*X.shape[2]))"
   ]
  },
  {
   "cell_type": "code",
   "execution_count": 12,
   "metadata": {
    "scrolled": true
   },
   "outputs": [
    {
     "name": "stdout",
     "output_type": "stream",
     "text": [
      "Spliting Test / Train sets ...\n"
     ]
    }
   ],
   "source": [
    "## Split Test / Train\n",
    "print(\"Spliting Test / Train sets ...\")\n",
    "\n",
    "X_train, X_test, y_train, y_test = train_test_split(X_flat, Y, test_size=0.3, random_state=42)"
   ]
  },
  {
   "cell_type": "code",
   "execution_count": 13,
   "metadata": {},
   "outputs": [
    {
     "name": "stdout",
     "output_type": "stream",
     "text": [
      "X train shape:  (14406, 10000)\n",
      "Y train size:  14406\n",
      "X test shape:  (6174, 10000)\n",
      "Y test size:  6174\n"
     ]
    }
   ],
   "source": [
    "## Data Size (after spliting)\n",
    "print(\"X train shape: \", X_train.shape)\n",
    "print(\"Y train size: \", y_train.size)\n",
    "print(\"X test shape: \", X_test.shape)\n",
    "print(\"Y test size: \", y_test.size)"
   ]
  },
  {
   "cell_type": "code",
   "execution_count": 14,
   "metadata": {},
   "outputs": [
    {
     "data": {
      "text/plain": [
       "<matplotlib.image.AxesImage at 0x214efbb1a20>"
      ]
     },
     "execution_count": 14,
     "metadata": {},
     "output_type": "execute_result"
    },
    {
     "data": {
      "image/png": "[encoded data removed]",
      "text/plain": [
       "<Figure size 432x288 with 1 Axes>"
      ]
     },
     "metadata": {
      "needs_background": "light"
     },
     "output_type": "display_data"
    }
   ],
   "source": [
    "plt.imshow(X_train[0].reshape(X.shape[1], X.shape[2]))"
   ]
  },
  {
   "cell_type": "code",
   "execution_count": 15,
   "metadata": {},
   "outputs": [
    {
     "name": "stdout",
     "output_type": "stream",
     "text": [
      "NMF ...\n",
      "violation: 1.0\n",
      "violation: 0.19427102997942244\n",
      "violation: 0.10577976986021398\n",
      "violation: 0.08013408724135682\n",
      "Converged at iteration 4\n"
     ]
    }
   ],
   "source": [
    "## NMF\n",
    "print(\"NMF ...\")\n",
    "\n",
    "nmf = NMF(n_components=1500, init='random', random_state=0, tol=0.1, verbose=True)\n",
    "\n",
    "W = nmf.fit_transform(X_train)\n",
    "H = nmf.components_"
   ]
  },
  {
   "cell_type": "code",
   "execution_count": 16,
   "metadata": {},
   "outputs": [],
   "source": [
    "X_reduced = W\n",
    "X_recovered = nmf.inverse_transform(X_reduced)"
   ]
  },
  {
   "cell_type": "code",
   "execution_count": 17,
   "metadata": {},
   "outputs": [
    {
     "name": "stdout",
     "output_type": "stream",
     "text": [
      "Reduced Shape: (14406, 1500)\n",
      "Recovered Shape: (14406, 10000)\n"
     ]
    }
   ],
   "source": [
    "## Data Size\n",
    "print(\"Reduced Shape: \" + str(X_reduced.shape))\n",
    "print(\"Recovered Shape: \" + str(X_recovered.shape))"
   ]
  },
  {
   "cell_type": "code",
   "execution_count": 18,
   "metadata": {},
   "outputs": [
    {
     "data": {
      "image/png": "[encoded data removed]",
      "text/plain": [
       "<Figure size 432x288 with 2 Axes>"
      ]
     },
     "metadata": {
      "needs_background": "light"
     },
     "output_type": "display_data"
    }
   ],
   "source": [
    "f = plt.figure()\n",
    "f.add_subplot(1, 2, 1)\n",
    "plt.title(\"Original\")\n",
    "plt.imshow(X_train[0].reshape(X.shape[1], X.shape[2]))\n",
    "\n",
    "f.add_subplot(1,2, 2)\n",
    "plt.title(\"NMF Compressed\")\n",
    "plt.imshow(X_recovered[0].reshape(X.shape[1], X.shape[2]))\n",
    "\n",
    "plt.show(block=True)"
   ]
  },
  {
   "cell_type": "code",
   "execution_count": 53,
   "metadata": {},
   "outputs": [
    {
     "name": "stdout",
     "output_type": "stream",
     "text": [
      "Classifying reduced images ...\n",
      "Training ...\n",
      "Iteration 1, loss = 5.18375887\n",
      "Iteration 2, loss = 4.79224792\n",
      "Iteration 3, loss = 4.77374997\n",
      "Iteration 4, loss = 4.73086509\n",
      "Iteration 5, loss = 4.63829225\n",
      "Iteration 6, loss = 4.54876451\n",
      "Iteration 7, loss = 4.46488541\n",
      "Iteration 8, loss = 4.38064781\n",
      "Iteration 9, loss = 4.31069267\n",
      "Iteration 10, loss = 4.24845771\n",
      "Iteration 11, loss = 4.20482578\n",
      "Iteration 12, loss = 4.16883811\n",
      "Iteration 13, loss = 4.12687459\n",
      "Iteration 14, loss = 4.08403970\n",
      "Iteration 15, loss = 4.04606037\n",
      "Iteration 16, loss = 4.00945766\n",
      "Iteration 17, loss = 3.96816857\n",
      "Iteration 18, loss = 3.93995398\n",
      "Iteration 19, loss = 3.90482981\n",
      "Iteration 20, loss = 3.88477228\n",
      "Iteration 21, loss = 3.83995141\n",
      "Iteration 22, loss = 3.81809728\n",
      "Iteration 23, loss = 3.79520260\n",
      "Iteration 24, loss = 3.76061914\n",
      "Iteration 25, loss = 3.73563360\n",
      "Iteration 26, loss = 3.70832314\n",
      "Iteration 27, loss = 3.68337878\n",
      "Iteration 28, loss = 3.65933991\n",
      "Iteration 29, loss = 3.63006720\n",
      "Iteration 30, loss = 3.61509305\n",
      "Iteration 31, loss = 3.58371855\n",
      "Iteration 32, loss = 3.57749328\n",
      "Iteration 33, loss = 3.53640601\n",
      "Iteration 34, loss = 3.52482049\n",
      "Iteration 35, loss = 3.50725943\n",
      "Iteration 36, loss = 3.47233765\n",
      "Iteration 37, loss = 3.45894942\n",
      "Iteration 38, loss = 3.44283469\n",
      "Iteration 39, loss = 3.41432844\n",
      "Iteration 40, loss = 3.40103295\n",
      "Iteration 41, loss = 3.37071052\n",
      "Iteration 42, loss = 3.37722354\n",
      "Iteration 43, loss = 3.35459564\n",
      "Iteration 44, loss = 3.35226781\n",
      "Iteration 45, loss = 3.33147712\n",
      "Iteration 46, loss = 3.30542677\n",
      "Iteration 47, loss = 3.27508683\n",
      "Iteration 48, loss = 3.26342836\n",
      "Iteration 49, loss = 3.26458725\n",
      "Iteration 50, loss = 3.24142020\n",
      "Iteration 51, loss = 3.23921081\n",
      "Iteration 52, loss = 3.22458961\n",
      "Iteration 53, loss = 3.21954283\n",
      "Iteration 54, loss = 3.19674149\n",
      "Iteration 55, loss = 3.17506031\n",
      "Iteration 56, loss = 3.17201988\n",
      "Iteration 57, loss = 3.14504531\n",
      "Iteration 58, loss = 3.14657180\n",
      "Iteration 59, loss = 3.13348921\n",
      "Iteration 60, loss = 3.12171024\n",
      "Iteration 61, loss = 3.10626281\n",
      "Iteration 62, loss = 3.10592015\n",
      "Iteration 63, loss = 3.08155004\n",
      "Iteration 64, loss = 3.08047384\n",
      "Iteration 65, loss = 3.06055514\n",
      "Iteration 66, loss = 3.06196036\n",
      "Iteration 67, loss = 3.05062944\n",
      "Iteration 68, loss = 3.03526048\n",
      "Iteration 69, loss = 3.01860743\n",
      "Iteration 70, loss = 3.02192003\n",
      "Iteration 71, loss = 3.02129027\n",
      "Iteration 72, loss = 3.00242465\n",
      "Iteration 73, loss = 2.99121172\n",
      "Iteration 74, loss = 2.99559011\n",
      "Iteration 75, loss = 2.98569638\n",
      "Iteration 76, loss = 2.95428148\n",
      "Iteration 77, loss = 2.95491904\n",
      "Iteration 78, loss = 2.93013443\n",
      "Iteration 79, loss = 2.95745668\n",
      "Iteration 80, loss = 2.92886029\n",
      "Iteration 81, loss = 2.92511756\n",
      "Iteration 82, loss = 2.89655759\n",
      "Iteration 83, loss = 2.87984308\n",
      "Iteration 84, loss = 2.88670610\n",
      "Iteration 85, loss = 2.85891010\n",
      "Iteration 86, loss = 2.86209970\n",
      "Iteration 87, loss = 2.84658988\n",
      "Iteration 88, loss = 2.86965308\n",
      "Iteration 89, loss = 2.88347482\n",
      "Iteration 90, loss = 2.82386937\n",
      "Iteration 91, loss = 2.82249662\n",
      "Iteration 92, loss = 2.81014661\n",
      "Iteration 93, loss = 2.83096808\n",
      "Iteration 94, loss = 2.82615736\n",
      "Iteration 95, loss = 2.84455085\n",
      "Iteration 96, loss = 2.78531869\n",
      "Iteration 97, loss = 2.77736017\n",
      "Iteration 98, loss = 2.76062504\n",
      "Iteration 99, loss = 2.75532569\n",
      "Iteration 100, loss = 2.75796556\n",
      "Iteration 101, loss = 2.74991196\n",
      "Iteration 102, loss = 2.74971799\n",
      "Iteration 103, loss = 2.72732552\n",
      "Iteration 104, loss = 2.73256474\n",
      "Iteration 105, loss = 2.72847831\n",
      "Iteration 106, loss = 2.73721135\n",
      "Iteration 107, loss = 2.70086377\n",
      "Iteration 108, loss = 2.69434291\n",
      "Iteration 109, loss = 2.70068047\n",
      "Iteration 110, loss = 2.67906507\n",
      "Iteration 111, loss = 2.69375276\n",
      "Iteration 112, loss = 2.68828856\n",
      "Iteration 113, loss = 2.66579574\n",
      "Iteration 114, loss = 2.66928628\n",
      "Iteration 115, loss = 2.64443195\n",
      "Iteration 116, loss = 2.70782723\n",
      "Iteration 117, loss = 2.67819872\n",
      "Iteration 118, loss = 2.66016360\n",
      "Iteration 119, loss = 2.63577041\n",
      "Iteration 120, loss = 2.65167186\n",
      "Iteration 121, loss = 2.67086762\n",
      "Iteration 122, loss = 2.61954592\n",
      "Iteration 123, loss = 2.60554649\n",
      "Iteration 124, loss = 2.63646224\n",
      "Iteration 125, loss = 2.60572510\n",
      "Iteration 126, loss = 2.62930681\n",
      "Iteration 127, loss = 2.63699590\n",
      "Iteration 128, loss = 2.60022040\n",
      "Iteration 129, loss = 2.58352169\n",
      "Iteration 130, loss = 2.56707879\n",
      "Iteration 131, loss = 2.55589978\n",
      "Iteration 132, loss = 2.56883949\n",
      "Iteration 133, loss = 2.58208411\n",
      "Iteration 134, loss = 2.53764040\n",
      "Iteration 135, loss = 2.55994670\n",
      "Iteration 136, loss = 2.56223119\n",
      "Iteration 137, loss = 2.56424789\n",
      "Iteration 138, loss = 2.53980732\n",
      "Iteration 139, loss = 2.54927680\n",
      "Iteration 140, loss = 2.54567036\n",
      "Iteration 141, loss = 2.59248906\n",
      "Iteration 142, loss = 2.56776425\n",
      "Iteration 143, loss = 2.54326140\n",
      "Iteration 144, loss = 2.52243867\n",
      "Iteration 145, loss = 2.51026389\n",
      "Iteration 146, loss = 2.52477863\n",
      "Iteration 147, loss = 2.57364899\n",
      "Iteration 148, loss = 2.51989791\n",
      "Iteration 149, loss = 2.53245492\n",
      "Iteration 150, loss = 2.49210039\n",
      "Iteration 151, loss = 2.51949668\n",
      "Iteration 152, loss = 2.58432194\n",
      "Iteration 153, loss = 2.48608822\n",
      "Iteration 154, loss = 2.48980565\n",
      "Iteration 155, loss = 2.50544508\n",
      "Iteration 156, loss = 2.48093523\n",
      "Iteration 157, loss = 2.45349094\n",
      "Iteration 158, loss = 2.44635138\n",
      "Iteration 159, loss = 2.43881647\n",
      "Iteration 160, loss = 2.42757538\n",
      "Iteration 161, loss = 2.44049256\n",
      "Iteration 162, loss = 2.43464467\n",
      "Iteration 163, loss = 2.42267982\n",
      "Iteration 164, loss = 2.42390643\n",
      "Iteration 165, loss = 2.41472832\n",
      "Iteration 166, loss = 2.42798307\n",
      "Iteration 167, loss = 2.50608315\n",
      "Iteration 168, loss = 2.44486810\n",
      "Iteration 169, loss = 2.41513710\n",
      "Iteration 170, loss = 2.39059659\n",
      "Iteration 171, loss = 2.39037300\n",
      "Iteration 172, loss = 2.40307777\n",
      "Iteration 173, loss = 2.40064981\n",
      "Iteration 174, loss = 2.44387351\n",
      "Iteration 175, loss = 2.42686248\n",
      "Iteration 176, loss = 2.42270419\n",
      "Iteration 177, loss = 2.39609445\n",
      "Iteration 178, loss = 2.40619391\n",
      "Iteration 179, loss = 2.37651595\n",
      "Iteration 180, loss = 2.39041403\n",
      "Iteration 181, loss = 2.38846515\n",
      "Iteration 182, loss = 2.40976212\n",
      "Iteration 183, loss = 2.43235468\n",
      "Iteration 184, loss = 2.36836460\n",
      "Iteration 185, loss = 2.38450874\n",
      "Iteration 186, loss = 2.37771086\n",
      "Iteration 187, loss = 2.34018771\n",
      "Iteration 188, loss = 2.37858433\n",
      "Iteration 189, loss = 2.33759513\n",
      "Iteration 190, loss = 2.33740642\n",
      "Iteration 191, loss = 2.36525705\n",
      "Iteration 192, loss = 2.35816581\n",
      "Iteration 193, loss = 2.36695113\n",
      "Iteration 194, loss = 2.34195702\n",
      "Iteration 195, loss = 2.34191418\n",
      "Iteration 196, loss = 2.32055490\n",
      "Iteration 197, loss = 2.37410971\n",
      "Iteration 198, loss = 2.33628737\n",
      "Iteration 199, loss = 2.34047560\n",
      "Iteration 200, loss = 2.32600360\n",
      "Testing ...\n"
     ]
    },
    {
     "name": "stderr",
     "output_type": "stream",
     "text": [
      "c:\\users\\vicky lin\\appdata\\local\\programs\\python\\python36\\lib\\site-packages\\sklearn\\neural_network\\multilayer_perceptron.py:562: ConvergenceWarning: Stochastic Optimizer: Maximum iterations (200) reached and the optimization hasn't converged yet.\n",
      "  % self.max_iter, ConvergenceWarning)\n"
     ]
    },
    {
     "name": "stdout",
     "output_type": "stream",
     "text": [
      "violation: 1.0\n",
      "violation: 0.6977733308280961\n",
      "violation: 0.5304569641952742\n",
      "violation: 0.4452328405515272\n",
      "violation: 0.3923537229918359\n",
      "violation: 0.3556779693402715\n",
      "violation: 0.3271379428981778\n",
      "violation: 0.30332485587714914\n",
      "violation: 0.28133310287906244\n",
      "violation: 0.2629352754516743\n",
      "violation: 0.2474309323635252\n",
      "violation: 0.23321702015725493\n",
      "violation: 0.2205418722547822\n",
      "violation: 0.2086719676697587\n",
      "violation: 0.19868585392209787\n",
      "violation: 0.18961097965206866\n",
      "violation: 0.18120267377362909\n",
      "violation: 0.1731811627530502\n",
      "violation: 0.16608873653293568\n",
      "violation: 0.1590181879407883\n",
      "violation: 0.15267320392578979\n",
      "violation: 0.14680598513081217\n",
      "violation: 0.1412191946960333\n",
      "violation: 0.1360658226113913\n",
      "violation: 0.1313767719200654\n",
      "violation: 0.1270081212039067\n",
      "violation: 0.12275089315468246\n",
      "violation: 0.11871936273905874\n",
      "violation: 0.11485752904148469\n",
      "violation: 0.1111499986732912\n",
      "violation: 0.10760670690743096\n",
      "violation: 0.10428607514070547\n",
      "violation: 0.10121443409769615\n",
      "violation: 0.09823221435165004\n",
      "Converged at iteration 34\n"
     ]
    }
   ],
   "source": [
    "## Classification - MLP (reduced)\n",
    "print(\"Classifying reduced images ...\")\n",
    "\n",
    "# Training\n",
    "print(\"Training ...\")\n",
    "\n",
    "mlp_reduced = MLPClassifier(solver='adam', alpha=1e-5, hidden_layer_sizes=(20, 20, 20), random_state=1, verbose=True)\n",
    "mlp_reduced.fit(X_reduced, y_train)\n",
    "\n",
    "# Testing\n",
    "print(\"Testing ...\")\n",
    "\n",
    "X_test_reduced = nmf.transform(X_test)\n",
    "y_hat_reduced = mlp_reduced.predict(X_test_reduced)"
   ]
  },
  {
   "cell_type": "code",
   "execution_count": 19,
   "metadata": {
    "scrolled": true
   },
   "outputs": [
    {
     "name": "stdout",
     "output_type": "stream",
     "text": [
      "[LibSVM]"
     ]
    },
    {
     "ename": "ValueError",
     "evalue": "X.shape[1] = 10000 should be equal to 1500, the number of features at training time",
     "output_type": "error",
     "traceback": [
      "\u001b[1;31m---------------------------------------------------------------------------\u001b[0m",
      "\u001b[1;31mValueError\u001b[0m                                Traceback (most recent call last)",
      "\u001b[1;32m<ipython-input-19-4a6f8e7d2bec>\u001b[0m in \u001b[0;36m<module>\u001b[1;34m\u001b[0m\n\u001b[0;32m      1\u001b[0m \u001b[0msvm_reduced\u001b[0m \u001b[1;33m=\u001b[0m \u001b[0mSVC\u001b[0m\u001b[1;33m(\u001b[0m\u001b[0mkernel\u001b[0m\u001b[1;33m=\u001b[0m\u001b[1;34m'linear'\u001b[0m\u001b[1;33m,\u001b[0m \u001b[0mprobability\u001b[0m\u001b[1;33m=\u001b[0m\u001b[1;32mTrue\u001b[0m\u001b[1;33m,\u001b[0m \u001b[0mverbose\u001b[0m\u001b[1;33m=\u001b[0m\u001b[1;32mTrue\u001b[0m\u001b[1;33m)\u001b[0m\u001b[1;33m\u001b[0m\u001b[1;33m\u001b[0m\u001b[0m\n\u001b[0;32m      2\u001b[0m \u001b[0msvm_model\u001b[0m \u001b[1;33m=\u001b[0m \u001b[0msvm_reduced\u001b[0m\u001b[1;33m.\u001b[0m\u001b[0mfit\u001b[0m\u001b[1;33m(\u001b[0m\u001b[0mX_reduced\u001b[0m\u001b[1;33m,\u001b[0m \u001b[0my_train\u001b[0m\u001b[1;33m)\u001b[0m\u001b[1;33m\u001b[0m\u001b[1;33m\u001b[0m\u001b[0m\n\u001b[1;32m----> 3\u001b[1;33m \u001b[0my_score\u001b[0m \u001b[1;33m=\u001b[0m \u001b[0msvm_model\u001b[0m\u001b[1;33m.\u001b[0m\u001b[0mdecision_function\u001b[0m\u001b[1;33m(\u001b[0m\u001b[0mX_test\u001b[0m\u001b[1;33m)\u001b[0m\u001b[1;33m\u001b[0m\u001b[1;33m\u001b[0m\u001b[0m\n\u001b[0m\u001b[0;32m      4\u001b[0m \u001b[0mprint\u001b[0m\u001b[1;33m(\u001b[0m\u001b[0my_score\u001b[0m\u001b[1;33m)\u001b[0m\u001b[1;33m\u001b[0m\u001b[1;33m\u001b[0m\u001b[0m\n",
      "\u001b[1;32mc:\\users\\vicky lin\\appdata\\local\\programs\\python\\python36\\lib\\site-packages\\sklearn\\svm\\base.py\u001b[0m in \u001b[0;36mdecision_function\u001b[1;34m(self, X)\u001b[0m\n\u001b[0;32m    544\u001b[0m             n_classes)\n\u001b[0;32m    545\u001b[0m         \"\"\"\n\u001b[1;32m--> 546\u001b[1;33m         \u001b[0mdec\u001b[0m \u001b[1;33m=\u001b[0m \u001b[0mself\u001b[0m\u001b[1;33m.\u001b[0m\u001b[0m_decision_function\u001b[0m\u001b[1;33m(\u001b[0m\u001b[0mX\u001b[0m\u001b[1;33m)\u001b[0m\u001b[1;33m\u001b[0m\u001b[1;33m\u001b[0m\u001b[0m\n\u001b[0m\u001b[0;32m    547\u001b[0m         \u001b[1;32mif\u001b[0m \u001b[0mself\u001b[0m\u001b[1;33m.\u001b[0m\u001b[0mdecision_function_shape\u001b[0m \u001b[1;33m==\u001b[0m \u001b[1;34m'ovr'\u001b[0m \u001b[1;32mand\u001b[0m \u001b[0mlen\u001b[0m\u001b[1;33m(\u001b[0m\u001b[0mself\u001b[0m\u001b[1;33m.\u001b[0m\u001b[0mclasses_\u001b[0m\u001b[1;33m)\u001b[0m \u001b[1;33m>\u001b[0m \u001b[1;36m2\u001b[0m\u001b[1;33m:\u001b[0m\u001b[1;33m\u001b[0m\u001b[1;33m\u001b[0m\u001b[0m\n\u001b[0;32m    548\u001b[0m             \u001b[1;32mreturn\u001b[0m \u001b[0m_ovr_decision_function\u001b[0m\u001b[1;33m(\u001b[0m\u001b[0mdec\u001b[0m \u001b[1;33m<\u001b[0m \u001b[1;36m0\u001b[0m\u001b[1;33m,\u001b[0m \u001b[1;33m-\u001b[0m\u001b[0mdec\u001b[0m\u001b[1;33m,\u001b[0m \u001b[0mlen\u001b[0m\u001b[1;33m(\u001b[0m\u001b[0mself\u001b[0m\u001b[1;33m.\u001b[0m\u001b[0mclasses_\u001b[0m\u001b[1;33m)\u001b[0m\u001b[1;33m)\u001b[0m\u001b[1;33m\u001b[0m\u001b[1;33m\u001b[0m\u001b[0m\n",
      "\u001b[1;32mc:\\users\\vicky lin\\appdata\\local\\programs\\python\\python36\\lib\\site-packages\\sklearn\\svm\\base.py\u001b[0m in \u001b[0;36m_decision_function\u001b[1;34m(self, X)\u001b[0m\n\u001b[0;32m    399\u001b[0m         \u001b[1;31m# NOTE: _validate_for_predict contains check for is_fitted\u001b[0m\u001b[1;33m\u001b[0m\u001b[1;33m\u001b[0m\u001b[1;33m\u001b[0m\u001b[0m\n\u001b[0;32m    400\u001b[0m         \u001b[1;31m# hence must be placed before any other attributes are used.\u001b[0m\u001b[1;33m\u001b[0m\u001b[1;33m\u001b[0m\u001b[1;33m\u001b[0m\u001b[0m\n\u001b[1;32m--> 401\u001b[1;33m         \u001b[0mX\u001b[0m \u001b[1;33m=\u001b[0m \u001b[0mself\u001b[0m\u001b[1;33m.\u001b[0m\u001b[0m_validate_for_predict\u001b[0m\u001b[1;33m(\u001b[0m\u001b[0mX\u001b[0m\u001b[1;33m)\u001b[0m\u001b[1;33m\u001b[0m\u001b[1;33m\u001b[0m\u001b[0m\n\u001b[0m\u001b[0;32m    402\u001b[0m         \u001b[0mX\u001b[0m \u001b[1;33m=\u001b[0m \u001b[0mself\u001b[0m\u001b[1;33m.\u001b[0m\u001b[0m_compute_kernel\u001b[0m\u001b[1;33m(\u001b[0m\u001b[0mX\u001b[0m\u001b[1;33m)\u001b[0m\u001b[1;33m\u001b[0m\u001b[1;33m\u001b[0m\u001b[0m\n\u001b[0;32m    403\u001b[0m \u001b[1;33m\u001b[0m\u001b[0m\n",
      "\u001b[1;32mc:\\users\\vicky lin\\appdata\\local\\programs\\python\\python36\\lib\\site-packages\\sklearn\\svm\\base.py\u001b[0m in \u001b[0;36m_validate_for_predict\u001b[1;34m(self, X)\u001b[0m\n\u001b[0;32m    476\u001b[0m             raise ValueError(\"X.shape[1] = %d should be equal to %d, \"\n\u001b[0;32m    477\u001b[0m                              \u001b[1;34m\"the number of features at training time\"\u001b[0m \u001b[1;33m%\u001b[0m\u001b[1;33m\u001b[0m\u001b[1;33m\u001b[0m\u001b[0m\n\u001b[1;32m--> 478\u001b[1;33m                              (n_features, self.shape_fit_[1]))\n\u001b[0m\u001b[0;32m    479\u001b[0m         \u001b[1;32mreturn\u001b[0m \u001b[0mX\u001b[0m\u001b[1;33m\u001b[0m\u001b[1;33m\u001b[0m\u001b[0m\n\u001b[0;32m    480\u001b[0m \u001b[1;33m\u001b[0m\u001b[0m\n",
      "\u001b[1;31mValueError\u001b[0m: X.shape[1] = 10000 should be equal to 1500, the number of features at training time"
     ]
    }
   ],
   "source": [
    "svm_reduced = SVC(kernel='linear', probability=True, verbose=True)\n",
    "svm_model = svm_reduced.fit(X_reduced, y_train)\n",
    "y_score = svm_model.decision_function(X_test)\n",
    "print(y_score)"
   ]
  },
  {
   "cell_type": "code",
   "execution_count": 78,
   "metadata": {},
   "outputs": [
    {
     "name": "stdout",
     "output_type": "stream",
     "text": [
      "accuracy: 0.01635892452218983\n",
      "precision: [0.         0.02439024 0.         0.         0.01785714 0.\n",
      " 0.         0.01898734 0.01829268 0.01282051 0.08       0.01190476\n",
      " 0.         0.         0.02       0.01639344 0.         0.\n",
      " 0.02941176 0.         0.02222222 0.0212766  0.         0.01408451\n",
      " 0.03030303 0.         0.         0.         0.04       0.\n",
      " 0.2        0.         0.03125    0.         0.         0.\n",
      " 0.         0.01369863 0.01748252 0.15384615 0.         0.\n",
      " 0.00833333 0.         0.04166667 0.         0.11764706 0.\n",
      " 0.02941176 0.         0.04545455 0.         0.         0.\n",
      " 0.         0.01818182 0.02808989 0.         0.         0.04545455\n",
      " 0.         0.04       0.         0.03252033 0.05714286 0.\n",
      " 0.         0.0625     0.01587302 0.02164502 0.         0.01298701\n",
      " 0.         0.25       0.1        0.         0.00641026 0.\n",
      " 0.         0.         0.         0.         0.         0.\n",
      " 0.125      0.         0.         0.03030303 0.03846154 0.00775194\n",
      " 0.03333333 0.         0.03703704 0.         0.         0.\n",
      " 0.         0.0625     0.04       0.         0.         0.02941176\n",
      " 0.04255319 0.         0.         0.         0.         0.00487805\n",
      " 0.         0.         0.         0.         0.         0.\n",
      " 0.         0.         0.01973684 0.16666667 0.         0.03571429]\n",
      "recall: [0.         0.03333333 0.         0.         0.05405405 0.\n",
      " 0.         0.04225352 0.05       0.07272727 0.04       0.03508772\n",
      " 0.         0.         0.02222222 0.02272727 0.         0.\n",
      " 0.02173913 0.         0.02040816 0.0212766  0.         0.0754717\n",
      " 0.07317073 0.         0.         0.         0.04651163 0.\n",
      " 0.01470588 0.         0.01639344 0.         0.         0.\n",
      " 0.         0.02       0.09615385 0.03448276 0.         0.\n",
      " 0.01694915 0.         0.01265823 0.         0.03846154 0.\n",
      " 0.01666667 0.         0.03921569 0.         0.         0.\n",
      " 0.         0.02564103 0.09615385 0.         0.         0.02173913\n",
      " 0.         0.03225806 0.         0.08333333 0.03125    0.\n",
      " 0.         0.06       0.03947368 0.11111111 0.         0.01785714\n",
      " 0.         0.02040816 0.02325581 0.         0.01923077 0.\n",
      " 0.         0.         0.         0.         0.         0.\n",
      " 0.04       0.         0.         0.02564103 0.01960784 0.02272727\n",
      " 0.02439024 0.         0.02040816 0.         0.         0.\n",
      " 0.         0.04       0.08108108 0.         0.         0.01818182\n",
      " 0.04347826 0.         0.         0.         0.         0.01694915\n",
      " 0.         0.         0.         0.         0.         0.\n",
      " 0.         0.         0.05769231 0.04545455 0.         0.02173913]\n",
      "F1: [0.         0.02816901 0.         0.         0.02684564 0.\n",
      " 0.         0.02620087 0.02678571 0.02179837 0.05333333 0.01777778\n",
      " 0.         0.         0.02105263 0.01904762 0.         0.\n",
      " 0.025      0.         0.0212766  0.0212766  0.         0.02373887\n",
      " 0.04285714 0.         0.         0.         0.04301075 0.\n",
      " 0.02739726 0.         0.02150538 0.         0.         0.\n",
      " 0.         0.01626016 0.0295858  0.05633803 0.         0.\n",
      " 0.01117318 0.         0.01941748 0.         0.05797101 0.\n",
      " 0.0212766  0.         0.04210526 0.         0.         0.\n",
      " 0.         0.0212766  0.04347826 0.         0.         0.02941176\n",
      " 0.         0.03571429 0.         0.04678363 0.04040404 0.\n",
      " 0.         0.06122449 0.02264151 0.03623188 0.         0.01503759\n",
      " 0.         0.03773585 0.03773585 0.         0.00961538 0.\n",
      " 0.         0.         0.         0.         0.         0.\n",
      " 0.06060606 0.         0.         0.02777778 0.02597403 0.01156069\n",
      " 0.02816901 0.         0.02631579 0.         0.         0.\n",
      " 0.         0.04878049 0.05357143 0.         0.         0.02247191\n",
      " 0.04301075 0.         0.         0.         0.         0.00757576\n",
      " 0.         0.         0.         0.         0.         0.\n",
      " 0.         0.         0.02941176 0.07142857 0.         0.02702703]\n"
     ]
    },
    {
     "ename": "TypeError",
     "evalue": "ufunc 'subtract' did not contain a loop with signature matching types dtype('<U30') dtype('<U30') dtype('<U30')",
     "output_type": "error",
     "traceback": [
      "\u001b[1;31m---------------------------------------------------------------------------\u001b[0m",
      "\u001b[1;31mTypeError\u001b[0m                                 Traceback (most recent call last)",
      "\u001b[1;32m<ipython-input-78-f7508ddca6de>\u001b[0m in \u001b[0;36m<module>\u001b[1;34m\u001b[0m\n\u001b[0;32m     18\u001b[0m \u001b[1;31m#     y_test_bi = myFunc(value)\u001b[0m\u001b[1;33m\u001b[0m\u001b[1;33m\u001b[0m\u001b[1;33m\u001b[0m\u001b[0m\n\u001b[0;32m     19\u001b[0m \u001b[1;31m#     y_hat_reduced_bi = myFunc(value)\u001b[0m\u001b[1;33m\u001b[0m\u001b[1;33m\u001b[0m\u001b[1;33m\u001b[0m\u001b[0m\n\u001b[1;32m---> 20\u001b[1;33m     \u001b[0mfpr\u001b[0m\u001b[1;33m,\u001b[0m \u001b[0mtpr\u001b[0m\u001b[1;33m,\u001b[0m \u001b[0m_\u001b[0m \u001b[1;33m=\u001b[0m \u001b[0mroc_curve\u001b[0m\u001b[1;33m(\u001b[0m\u001b[0my_test\u001b[0m\u001b[1;33m,\u001b[0m \u001b[0my_hat_reduced\u001b[0m\u001b[1;33m,\u001b[0m \u001b[0mpos_label\u001b[0m\u001b[1;33m=\u001b[0m\u001b[0mvalue\u001b[0m\u001b[1;33m)\u001b[0m\u001b[1;33m\u001b[0m\u001b[1;33m\u001b[0m\u001b[0m\n\u001b[0m\u001b[0;32m     21\u001b[0m     \u001b[0mprint\u001b[0m\u001b[1;33m(\u001b[0m\u001b[0mvalue\u001b[0m\u001b[1;33m,\u001b[0m \u001b[0mfpr\u001b[0m\u001b[1;33m,\u001b[0m \u001b[0mtpr\u001b[0m\u001b[1;33m)\u001b[0m\u001b[1;33m\u001b[0m\u001b[1;33m\u001b[0m\u001b[0m\n\u001b[0;32m     22\u001b[0m     \u001b[0mroc_auc\u001b[0m \u001b[1;33m=\u001b[0m \u001b[0mauc\u001b[0m\u001b[1;33m(\u001b[0m\u001b[0mfpr\u001b[0m\u001b[1;33m,\u001b[0m \u001b[0mtpr\u001b[0m\u001b[1;33m)\u001b[0m\u001b[1;33m\u001b[0m\u001b[1;33m\u001b[0m\u001b[0m\n",
      "\u001b[1;32mc:\\users\\vicky lin\\appdata\\local\\programs\\python\\python36\\lib\\site-packages\\sklearn\\metrics\\ranking.py\u001b[0m in \u001b[0;36mroc_curve\u001b[1;34m(y_true, y_score, pos_label, sample_weight, drop_intermediate)\u001b[0m\n\u001b[0;32m    616\u001b[0m     \"\"\"\n\u001b[0;32m    617\u001b[0m     fps, tps, thresholds = _binary_clf_curve(\n\u001b[1;32m--> 618\u001b[1;33m         y_true, y_score, pos_label=pos_label, sample_weight=sample_weight)\n\u001b[0m\u001b[0;32m    619\u001b[0m \u001b[1;33m\u001b[0m\u001b[0m\n\u001b[0;32m    620\u001b[0m     \u001b[1;31m# Attempt to drop thresholds corresponding to points in between and\u001b[0m\u001b[1;33m\u001b[0m\u001b[1;33m\u001b[0m\u001b[1;33m\u001b[0m\u001b[0m\n",
      "\u001b[1;32mc:\\users\\vicky lin\\appdata\\local\\programs\\python\\python36\\lib\\site-packages\\sklearn\\metrics\\ranking.py\u001b[0m in \u001b[0;36m_binary_clf_curve\u001b[1;34m(y_true, y_score, pos_label, sample_weight)\u001b[0m\n\u001b[0;32m    433\u001b[0m     \u001b[1;31m# the indices associated with the distinct values. We also\u001b[0m\u001b[1;33m\u001b[0m\u001b[1;33m\u001b[0m\u001b[1;33m\u001b[0m\u001b[0m\n\u001b[0;32m    434\u001b[0m     \u001b[1;31m# concatenate a value for the end of the curve.\u001b[0m\u001b[1;33m\u001b[0m\u001b[1;33m\u001b[0m\u001b[1;33m\u001b[0m\u001b[0m\n\u001b[1;32m--> 435\u001b[1;33m     \u001b[0mdistinct_value_indices\u001b[0m \u001b[1;33m=\u001b[0m \u001b[0mnp\u001b[0m\u001b[1;33m.\u001b[0m\u001b[0mwhere\u001b[0m\u001b[1;33m(\u001b[0m\u001b[0mnp\u001b[0m\u001b[1;33m.\u001b[0m\u001b[0mdiff\u001b[0m\u001b[1;33m(\u001b[0m\u001b[0my_score\u001b[0m\u001b[1;33m)\u001b[0m\u001b[1;33m)\u001b[0m\u001b[1;33m[\u001b[0m\u001b[1;36m0\u001b[0m\u001b[1;33m]\u001b[0m\u001b[1;33m\u001b[0m\u001b[1;33m\u001b[0m\u001b[0m\n\u001b[0m\u001b[0;32m    436\u001b[0m     \u001b[0mthreshold_idxs\u001b[0m \u001b[1;33m=\u001b[0m \u001b[0mnp\u001b[0m\u001b[1;33m.\u001b[0m\u001b[0mr_\u001b[0m\u001b[1;33m[\u001b[0m\u001b[0mdistinct_value_indices\u001b[0m\u001b[1;33m,\u001b[0m \u001b[0my_true\u001b[0m\u001b[1;33m.\u001b[0m\u001b[0msize\u001b[0m \u001b[1;33m-\u001b[0m \u001b[1;36m1\u001b[0m\u001b[1;33m]\u001b[0m\u001b[1;33m\u001b[0m\u001b[1;33m\u001b[0m\u001b[0m\n\u001b[0;32m    437\u001b[0m \u001b[1;33m\u001b[0m\u001b[0m\n",
      "\u001b[1;32mc:\\users\\vicky lin\\appdata\\local\\programs\\python\\python36\\lib\\site-packages\\numpy\\lib\\function_base.py\u001b[0m in \u001b[0;36mdiff\u001b[1;34m(a, n, axis)\u001b[0m\n\u001b[0;32m   1172\u001b[0m     \u001b[0mop\u001b[0m \u001b[1;33m=\u001b[0m \u001b[0mnot_equal\u001b[0m \u001b[1;32mif\u001b[0m \u001b[0ma\u001b[0m\u001b[1;33m.\u001b[0m\u001b[0mdtype\u001b[0m \u001b[1;33m==\u001b[0m \u001b[0mnp\u001b[0m\u001b[1;33m.\u001b[0m\u001b[0mbool_\u001b[0m \u001b[1;32melse\u001b[0m \u001b[0msubtract\u001b[0m\u001b[1;33m\u001b[0m\u001b[1;33m\u001b[0m\u001b[0m\n\u001b[0;32m   1173\u001b[0m     \u001b[1;32mfor\u001b[0m \u001b[0m_\u001b[0m \u001b[1;32min\u001b[0m \u001b[0mrange\u001b[0m\u001b[1;33m(\u001b[0m\u001b[0mn\u001b[0m\u001b[1;33m)\u001b[0m\u001b[1;33m:\u001b[0m\u001b[1;33m\u001b[0m\u001b[1;33m\u001b[0m\u001b[0m\n\u001b[1;32m-> 1174\u001b[1;33m         \u001b[0ma\u001b[0m \u001b[1;33m=\u001b[0m \u001b[0mop\u001b[0m\u001b[1;33m(\u001b[0m\u001b[0ma\u001b[0m\u001b[1;33m[\u001b[0m\u001b[0mslice1\u001b[0m\u001b[1;33m]\u001b[0m\u001b[1;33m,\u001b[0m \u001b[0ma\u001b[0m\u001b[1;33m[\u001b[0m\u001b[0mslice2\u001b[0m\u001b[1;33m]\u001b[0m\u001b[1;33m)\u001b[0m\u001b[1;33m\u001b[0m\u001b[1;33m\u001b[0m\u001b[0m\n\u001b[0m\u001b[0;32m   1175\u001b[0m \u001b[1;33m\u001b[0m\u001b[0m\n\u001b[0;32m   1176\u001b[0m     \u001b[1;32mreturn\u001b[0m \u001b[0ma\u001b[0m\u001b[1;33m\u001b[0m\u001b[1;33m\u001b[0m\u001b[0m\n",
      "\u001b[1;31mTypeError\u001b[0m: ufunc 'subtract' did not contain a loop with signature matching types dtype('<U30') dtype('<U30') dtype('<U30')"
     ]
    },
    {
     "data": {
      "text/plain": [
       "<Figure size 432x288 with 0 Axes>"
      ]
     },
     "metadata": {},
     "output_type": "display_data"
    }
   ],
   "source": [
    "## Evaluations of reduced images\n",
    "print(\"accuracy: \" + str(accuracy_score(y_test, y_hat_reduced)))\n",
    "print(\"precision: \" + str(precision_score(y_test, y_hat_reduced, average=None)))\n",
    "print(\"recall: \" + str(recall_score(y_test, y_hat_reduced, average=None)))\n",
    "print(\"F1: \" + str(f1_score(y_test, y_hat_reduced, average=None)))\n",
    "\n",
    "def myFunc(key):\n",
    "    result = []\n",
    "    for (i, cl) in enumerate(y_hat_reduced):\n",
    "        if cl == key: \n",
    "            if y_test[i] == key:\n",
    "                result.append(1)\n",
    "        else: result.append(0)\n",
    "    print(result)\n",
    "    return result\n",
    "\n",
    "print(mlp_reduced)\n",
    "n_classes = 120\n",
    "plt.figure()\n",
    "for (i, value) in enumerate(dictionary.values()):\n",
    "#     y_test_bi = myFunc(value)\n",
    "#     y_hat_reduced_bi = myFunc(value)\n",
    "    fpr, tpr, _ = roc_auc_score(y_test, y_hat_reduced, pos_label=value)\n",
    "    print(value, fpr, tpr)\n",
    "    roc_auc = auc(fpr, tpr)\n",
    "\n",
    "    # Plot of a ROC curve for a specific class\n",
    "    f.add_subplot(60, 2, i+1)\n",
    "    plt.title(value)\n",
    "    plt.plot(fpr, tpr, label='ROC curve (area = %0.2f)' % roc_auc)\n",
    "    plt.plot([0, 1], [0, 1], 'k--')\n",
    "    plt.xlim([0.0, 1.0])\n",
    "    plt.ylim([0.0, 1.0])\n",
    "    plt.xlabel('False Positive Rate')\n",
    "    plt.ylabel('True Positive Rate')\n",
    "    plt.legend(loc=\"lower right\")\n",
    "    plt.show()"
   ]
  },
  {
   "cell_type": "code",
   "execution_count": 55,
   "metadata": {
    "scrolled": true
   },
   "outputs": [
    {
     "name": "stdout",
     "output_type": "stream",
     "text": [
      "Classifying original images ...\n",
      "Training ...\n",
      "Iteration 1, loss = 6.32249687\n",
      "Iteration 2, loss = 4.79009486\n",
      "Iteration 3, loss = 4.78745495\n",
      "Iteration 4, loss = 4.78534716\n",
      "Iteration 5, loss = 4.78356136\n",
      "Iteration 6, loss = 4.78221776\n",
      "Iteration 7, loss = 4.78125996\n",
      "Iteration 8, loss = 4.78045411\n",
      "Iteration 9, loss = 4.77975707\n",
      "Iteration 10, loss = 4.77932306\n",
      "Iteration 11, loss = 4.77895034\n",
      "Iteration 12, loss = 4.77870300\n",
      "Iteration 13, loss = 4.77841817\n",
      "Iteration 14, loss = 4.77832446\n",
      "Iteration 15, loss = 4.77821211\n",
      "Iteration 16, loss = 4.77809906\n",
      "Iteration 17, loss = 4.77799480\n",
      "Iteration 18, loss = 4.77795989\n",
      "Iteration 19, loss = 4.77791231\n",
      "Iteration 20, loss = 4.77784863\n",
      "Iteration 21, loss = 4.77787207\n",
      "Iteration 22, loss = 4.77780675\n",
      "Iteration 23, loss = 4.77781842\n",
      "Iteration 24, loss = 4.77778796\n",
      "Iteration 25, loss = 4.77775891\n",
      "Iteration 26, loss = 4.77775923\n",
      "Iteration 27, loss = 4.77772926\n",
      "Iteration 28, loss = 4.77771620\n",
      "Training loss did not improve more than tol=0.000100 for 10 consecutive epochs. Stopping.\n"
     ]
    },
    {
     "data": {
      "text/plain": [
       "MLPClassifier(activation='relu', alpha=1e-05, batch_size='auto', beta_1=0.9,\n",
       "       beta_2=0.999, early_stopping=False, epsilon=1e-08,\n",
       "       hidden_layer_sizes=(20, 20, 20), learning_rate='constant',\n",
       "       learning_rate_init=0.001, max_iter=200, momentum=0.9,\n",
       "       n_iter_no_change=10, nesterovs_momentum=True, power_t=0.5,\n",
       "       random_state=1, shuffle=True, solver='adam', tol=0.0001,\n",
       "       validation_fraction=0.1, verbose=True, warm_start=False)"
      ]
     },
     "execution_count": 55,
     "metadata": {},
     "output_type": "execute_result"
    }
   ],
   "source": [
    "## Classification - MLP (original)\n",
    "print(\"Classifying original images ...\")\n",
    "\n",
    "# Training\n",
    "print(\"Training ...\")\n",
    "\n",
    "mlp_orgn = MLPClassifier(solver='adam', alpha=1e-5, hidden_layer_sizes=(20, 20, 20), random_state=1, verbose=True)\n",
    "mlp_orgn.fit(X_train, y_train)"
   ]
  },
  {
   "cell_type": "code",
   "execution_count": 56,
   "metadata": {
    "scrolled": true
   },
   "outputs": [
    {
     "name": "stdout",
     "output_type": "stream",
     "text": [
      "Testing ...\n"
     ]
    }
   ],
   "source": [
    "# Testing\n",
    "print(\"Testing ...\")\n",
    "\n",
    "y_hat_orgn = mlp_orgn.predict(X_test)"
   ]
  },
  {
   "cell_type": "code",
   "execution_count": 57,
   "metadata": {},
   "outputs": [
    {
     "name": "stdout",
     "output_type": "stream",
     "text": [
      "accuracy: 0.009556203433754453\n"
     ]
    }
   ],
   "source": [
    "## Evaluations of original images\n",
    "print(\"accuracy: \" + str(accuracy_score(y_test, y_hat_orgn)))"
   ]
  }
 ],
 "metadata": {
  "kernelspec": {
   "display_name": "Python 3",
   "language": "python",
   "name": "python3"
  },
  "language_info": {
   "codemirror_mode": {
    "name": "ipython",
    "version": 3
   },
   "file_extension": ".py",
   "mimetype": "text/x-python",
   "name": "python",
   "nbconvert_exporter": "python",
   "pygments_lexer": "ipython3",
   "version": "3.6.7"
  }
 },
 "nbformat": 4,
 "nbformat_minor": 2
}
